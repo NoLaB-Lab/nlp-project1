{
 "cells": [
  {
   "cell_type": "code",
   "execution_count": 1,
   "metadata": {},
   "outputs": [
    {
     "ename": "ModuleNotFoundError",
     "evalue": "No module named 'exceptions'",
     "output_type": "error",
     "traceback": [
      "\u001b[0;31m---------------------------------------------------------------------------\u001b[0m",
      "\u001b[0;31mModuleNotFoundError\u001b[0m                       Traceback (most recent call last)",
      "Cell \u001b[0;32mIn[1], line 7\u001b[0m\n\u001b[1;32m      3\u001b[0m \u001b[38;5;28;01mimport\u001b[39;00m \u001b[38;5;21;01mre\u001b[39;00m\n\u001b[1;32m      4\u001b[0m \u001b[38;5;28;01mimport\u001b[39;00m \u001b[38;5;21;01mseaborn\u001b[39;00m \u001b[38;5;28;01mas\u001b[39;00m \u001b[38;5;21;01msns\u001b[39;00m\n\u001b[0;32m----> 7\u001b[0m \u001b[38;5;28;01mfrom\u001b[39;00m \u001b[38;5;21;01mutils\u001b[39;00m \u001b[38;5;28;01mimport\u001b[39;00m \u001b[38;5;241m*\u001b[39m\n",
      "File \u001b[0;32m~/rs_repos/nolab/nlp-project1/notebooks/utils.py:14\u001b[0m\n\u001b[1;32m     11\u001b[0m \u001b[38;5;28;01mfrom\u001b[39;00m \u001b[38;5;21;01mmatplotlib\u001b[39;00m \u001b[38;5;28;01mimport\u001b[39;00m pyplot \u001b[38;5;28;01mas\u001b[39;00m plt\n\u001b[1;32m     12\u001b[0m \u001b[38;5;28;01mfrom\u001b[39;00m \u001b[38;5;21;01mnltk\u001b[39;00m\u001b[38;5;21;01m.\u001b[39;00m\u001b[38;5;21;01mcorpus\u001b[39;00m \u001b[38;5;28;01mimport\u001b[39;00m words\n\u001b[0;32m---> 14\u001b[0m \u001b[38;5;28;01mimport\u001b[39;00m \u001b[38;5;21;01mdocx\u001b[39;00m\n\u001b[1;32m     15\u001b[0m \u001b[38;5;28;01mimport\u001b[39;00m \u001b[38;5;21;01mspacy\u001b[39;00m\n\u001b[1;32m     18\u001b[0m nlp \u001b[38;5;241m=\u001b[39m spacy\u001b[38;5;241m.\u001b[39mload(\u001b[38;5;124m'\u001b[39m\u001b[38;5;124men_core_web_lg\u001b[39m\u001b[38;5;124m'\u001b[39m)\n",
      "File \u001b[0;32m~/opt/anaconda3/envs/nlp-project1/lib/python3.11/site-packages/docx.py:30\u001b[0m\n\u001b[1;32m     27\u001b[0m \u001b[38;5;28;01mexcept\u001b[39;00m \u001b[38;5;167;01mImportError\u001b[39;00m:\n\u001b[1;32m     28\u001b[0m     TAGS \u001b[38;5;241m=\u001b[39m {}\n\u001b[0;32m---> 30\u001b[0m \u001b[38;5;28;01mfrom\u001b[39;00m \u001b[38;5;21;01mexceptions\u001b[39;00m \u001b[38;5;28;01mimport\u001b[39;00m \u001b[38;5;167;01mPendingDeprecationWarning\u001b[39;00m\n\u001b[1;32m     31\u001b[0m \u001b[38;5;28;01mfrom\u001b[39;00m \u001b[38;5;21;01mwarnings\u001b[39;00m \u001b[38;5;28;01mimport\u001b[39;00m warn\n\u001b[1;32m     33\u001b[0m \u001b[38;5;28;01mimport\u001b[39;00m \u001b[38;5;21;01mlogging\u001b[39;00m\n",
      "\u001b[0;31mModuleNotFoundError\u001b[0m: No module named 'exceptions'"
     ]
    }
   ],
   "source": [
    "import matplotlib.pyplot as plt\n",
    "import pandas as pd\n",
    "import re\n",
    "import seaborn as sns\n",
    "\n",
    "\n",
    "from utils import *"
   ]
  },
  {
   "cell_type": "code",
   "execution_count": 2,
   "metadata": {},
   "outputs": [],
   "source": [
    "def add_feature(doc):\n",
    "\n",
    "    def visit(word):\n",
    "\n",
    "        if word.pos_ == 'AUX':\n",
    "            if word.dep_ == 'aux':\n",
    "                word._.feature = 'aux' # Syntactic auxiliary verb\n",
    "            elif word.n_lefts > 0 and next(word.lefts).lemma_ == 'there':\n",
    "                word._.feature = 'there be'\n",
    "            elif word.n_rights > 0 and next(word.rights).dep_ != 'cc':\n",
    "                word._.feature = 'copula'\n",
    "            else:\n",
    "                word._.feature = 'other aux'\n",
    "        elif word.pos_ == 'VERB':\n",
    "            if word.lemma_ == 'see' and word.n_lefts > 0 and next(word.lefts).text.upper() == 'I':\n",
    "                word._.feature = 'i see'\n",
    "            elif word.lemma_ != 'see' and word.n_lefts > 0 and next(word.lefts).text.upper() == 'I':\n",
    "                word._.feature = 'i ...'\n",
    "            elif word.lemma_ == 'appear' and word.n_rights > 0 and next(word.rights).pos_ == 'AUX':\n",
    "                word._.feature = 'appear to be'\n",
    "            elif word.lemma_ == 'look' and word.n_rights > 0 and next(word.rights).pos_ == 'SCONJ':\n",
    "                word._.feature = 'look like'\n",
    "            elif word.dep_ == 'ccomp':\n",
    "                word._.feature = 'verb'\n",
    "            else:\n",
    "                word._.feature = 'verb'\n",
    "        elif word.pos_ == 'NOUN' or word.pos_ == 'NUM':\n",
    "            try:\n",
    "                anc = next(word.ancestors)\n",
    "                if anc.pos_ == 'VERB' and word.dep_ == 'dobj':\n",
    "                    if anc._.feature and anc._.feature == 'i see':\n",
    "                        word._.feature = 'predicate'\n",
    "                    else:\n",
    "                        word._.feature = 'argument'\n",
    "                elif anc.pos_ == 'ADP' and word.dep_ == 'pobj':\n",
    "                    if anc.text.lower() != 'of':\n",
    "                        try:\n",
    "                            anc_anc = next(anc.ancestors)\n",
    "                            if anc_anc.pos_ == 'AUX' and len([x for x in anc_anc.rights if x.pos_ == 'ADP']) == 1:\n",
    "                                word._.feature = 'argument'\n",
    "                            else:\n",
    "                                word._.feature = 'adjunct'\n",
    "                        except:\n",
    "                            word._.feature = 'adjunct'\n",
    "                    else:\n",
    "                        try:\n",
    "                            anc_anc = next(anc.ancestors)\n",
    "                            if anc_anc._.feature:\n",
    "                                word._.feature = anc_anc._.feature\n",
    "                                anc_anc._.feature = '... of'\n",
    "                        except:\n",
    "                            pass\n",
    "                elif anc.pos_ == 'AUX' and word.dep_ == 'attr' or word.dep_ == 'dobj':\n",
    "                    word._.feature = 'predicate'\n",
    "                elif anc.pos_ == 'SCONJ' and word.dep_ == 'pobj':\n",
    "                    try:\n",
    "                        anc_anc = next(anc.ancestors)\n",
    "                        if anc_anc.pos_ == 'AUX' or anc_anc.lemma_ == 'look':\n",
    "                            word._.feature = 'predicate'\n",
    "                        else:\n",
    "                            word._.feature = 'adjunct'\n",
    "                    except:\n",
    "                        pass\n",
    "                elif anc._.feature and word.dep_ == 'conj':\n",
    "                    if anc.pos_ != 'VERB':\n",
    "                        word._.feature = anc._.feature + ' conj'\n",
    "                    else:\n",
    "                        try:\n",
    "                            anc_anc = next(anc.ancestors)\n",
    "                            if anc_anc._.feature and anc_anc.pos_ != 'VERB':\n",
    "                                word._.feature = anc_anc._.feature + ' conj'\n",
    "                        except:\n",
    "                            pass\n",
    "            except:\n",
    "                pass\n",
    "        elif word.pos_ == 'ADV' and word.dep_ == 'advmod':\n",
    "            try:\n",
    "                anc = next(word.ancestors)\n",
    "                if anc.pos_ not in ('ADV', 'AUX'):\n",
    "                    word._.feature = 'adv adjunct'\n",
    "                elif anc.pos_ == 'AUX':\n",
    "                    n_nouns = 0\n",
    "                    n_advs = 0\n",
    "                    for right in anc.rights:\n",
    "                        if right.pos_ == 'NOUN':\n",
    "                            n_nouns += 1\n",
    "                        elif right.pos_ == 'ADV':\n",
    "                            n_advs += 1\n",
    "                    if n_nouns > 0:\n",
    "                        word._.feature = 'adv adjunct'\n",
    "                    elif n_advs == 1:\n",
    "                        word._.feature = 'predicate'\n",
    "            except:\n",
    "                pass\n",
    "        elif word.pos_ == 'ADJ' and word.dep_ == 'acomp':\n",
    "            word._.feature = 'predicate'\n",
    "\n",
    "        if word._.feature == 'adjunct':\n",
    "            try:\n",
    "                anc = next(word.ancestors)\n",
    "                if anc.lemma_ == 'into':\n",
    "                    try:\n",
    "                        anc_anc = next(anc.ancestors)\n",
    "                        if anc_anc.lemma_ == 'pour':\n",
    "                            word._.feature = 'argument'\n",
    "                    except:\n",
    "                        pass\n",
    "            except:\n",
    "                pass\n",
    "\n",
    "        for child in word.children:\n",
    "            visit(child)\n",
    "\n",
    "\n",
    "    for sent in doc.sents:\n",
    "        if len(sent) > 0:\n",
    "            visit(sent.root)"
   ]
  },
  {
   "cell_type": "code",
   "execution_count": 3,
   "metadata": {},
   "outputs": [],
   "source": [
    "# data = read_data(PATH='./examples')\n",
    "# data = data.drop(208792)\n",
    "# data = process_data(data)\n",
    "# data.head()"
   ]
  },
  {
   "cell_type": "code",
   "execution_count": 3,
   "metadata": {},
   "outputs": [
    {
     "data": {
      "text/html": [
       "<div>\n",
       "<style scoped>\n",
       "    .dataframe tbody tr th:only-of-type {\n",
       "        vertical-align: middle;\n",
       "    }\n",
       "\n",
       "    .dataframe tbody tr th {\n",
       "        vertical-align: top;\n",
       "    }\n",
       "\n",
       "    .dataframe thead th {\n",
       "        text-align: right;\n",
       "    }\n",
       "</style>\n",
       "<table border=\"1\" class=\"dataframe\">\n",
       "  <thead>\n",
       "    <tr style=\"text-align: right;\">\n",
       "      <th></th>\n",
       "      <th></th>\n",
       "      <th>variant</th>\n",
       "      <th>raw text</th>\n",
       "      <th>text</th>\n",
       "      <th>processed text</th>\n",
       "    </tr>\n",
       "    <tr>\n",
       "      <th>pidn</th>\n",
       "      <th>visit</th>\n",
       "      <th></th>\n",
       "      <th></th>\n",
       "      <th></th>\n",
       "      <th></th>\n",
       "    </tr>\n",
       "  </thead>\n",
       "  <tbody>\n",
       "    <tr>\n",
       "      <th>588</th>\n",
       "      <th>0</th>\n",
       "      <td>svPPA_L</td>\n",
       "      <td>Well there’s a man and a lady, and the there’s...</td>\n",
       "      <td>Well there's a man and a lady, and the there's...</td>\n",
       "      <td>Well there's a man and a lady, and the there's...</td>\n",
       "    </tr>\n",
       "    <tr>\n",
       "      <th>1279</th>\n",
       "      <th>0</th>\n",
       "      <td>bvFTD</td>\n",
       "      <td>Well I see some people out beside a lake with ...</td>\n",
       "      <td>Well I see some people out beside a lake with ...</td>\n",
       "      <td>Well I see some people out beside a lake with ...</td>\n",
       "    </tr>\n",
       "  </tbody>\n",
       "</table>\n",
       "</div>"
      ],
      "text/plain": [
       "            variant                                           raw text  \\\n",
       "pidn visit                                                               \n",
       "588  0      svPPA_L  Well there’s a man and a lady, and the there’s...   \n",
       "1279 0        bvFTD  Well I see some people out beside a lake with ...   \n",
       "\n",
       "                                                         text  \\\n",
       "pidn visit                                                      \n",
       "588  0      Well there's a man and a lady, and the there's...   \n",
       "1279 0      Well I see some people out beside a lake with ...   \n",
       "\n",
       "                                               processed text  \n",
       "pidn visit                                                     \n",
       "588  0      Well there's a man and a lady, and the there's...  \n",
       "1279 0      Well I see some people out beside a lake with ...  "
      ]
     },
     "execution_count": 3,
     "metadata": {},
     "output_type": "execute_result"
    }
   ],
   "source": [
    "data = read_docx(PATH='./Transcripts')\n",
    "data = process_data(data, process_text=True, apply_nlp=False, text_with_features=False, to_aggregate=False)\n",
    "data.head(2)"
   ]
  },
  {
   "cell_type": "code",
   "execution_count": 5,
   "metadata": {},
   "outputs": [],
   "source": [
    "# nfvppa_type = pd.read_csv('nfvppa_type.csv', index_col=0)\n",
    "# data.update(nfvppa_type.loc[~nfvppa_type['type'].isnull(), 'type'].rename('variant'))"
   ]
  },
  {
   "cell_type": "code",
   "execution_count": 4,
   "metadata": {},
   "outputs": [],
   "source": [
    "both_processed_manual = pd.read_csv('both_processed_manual.csv', index_col=0)\n",
    "data.update(both_processed_manual)"
   ]
  },
  {
   "cell_type": "code",
   "execution_count": 5,
   "metadata": {},
   "outputs": [],
   "source": [
    "aoa_processed_manual = pd.read_csv('aoa_processed_manual.csv', index_col=0)\n",
    "data.update(aoa_processed_manual)"
   ]
  },
  {
   "cell_type": "code",
   "execution_count": 6,
   "metadata": {},
   "outputs": [],
   "source": [
    "data = process_data(data, process_text=False, apply_nlp=True, text_with_features=True, to_aggregate=True)"
   ]
  },
  {
   "cell_type": "code",
   "execution_count": 7,
   "metadata": {},
   "outputs": [
    {
     "data": {
      "text/plain": [
       "\"Well<INTJ UH> I<PRON PRP> see<VERB VBP> some<DET DT> people<NOUN NNS> out<ADP RP> beside<ADP IN> a<DET DT> lake<NOUN NN> with<ADP IN> their<PRON PRP$> cabin<NOUN NN> and<CCONJ CC> their<PRON PRP$> car<NOUN NN> and<CCONJ CC> there<PRON EX> 's<VERB VBZ> a<DET DT> sailboat<NOUN NN> down<ADP RP> in<ADP IN> the<DET DT> water<NOUN NN>. And<CCONJ CC> I<PRON PRP> see<VERB VBP> a<DET DT> boy<NOUN NN> flying<VERB VBG> his<PRON PRP$> kite<NOUN NN>. And<CCONJ CC> somebody<PRON NN> out<ADP RP> on<ADP IN> the<DET DT> dock<NOUN NN> fishing<NOUN NN>. And<CCONJ CC> I<PRON PRP> see<VERB VBP> the<DET DT> boy<NOUN NN> out<ADV RB> there<ADV RB> surfing<VERB VBG>. And<CCONJ CC> a<DET DT> dog<NOUN NN>. And<CCONJ CC> then<ADV RB> back<ADV RB>, with<ADP IN> a<DET DT> boy<NOUN NN> and<CCONJ CC> a<DET DT> girl<NOUN NN>, and<CCONJ CC> the<DET DT> girl<NOUN NN> is<AUX VBZ> pouring<VERB VBG> some<DET DT> drink<NOUN NN> sitting<VERB VBG> on<ADP IN> a<DET DT> carpet<NOUN NN>. And<CCONJ CC> they<PRON PRP> have<VERB VBP> a<DET DT> radio<NOUN NN> and<CCONJ CC> stuff<NOUN NN> they<PRON PRP> so<SCONJ IN> they<PRON PRP> 're<AUX VBP> just<ADV RB> enjoying<VERB VBG> unbeing<NOUN NN> underneath<ADP IN> the<DET DT> tree<NOUN NN>.\""
      ]
     },
     "execution_count": 7,
     "metadata": {},
     "output_type": "execute_result"
    }
   ],
   "source": [
    "get_text_with_pos(data.loc[(1279, 0), 'doc'], pos='both')"
   ]
  },
  {
   "cell_type": "code",
   "execution_count": 8,
   "metadata": {},
   "outputs": [],
   "source": [
    "data.loc[:, 'text with pos'] = data.loc[:, 'doc'].apply(get_text_with_pos, pos='both')"
   ]
  },
  {
   "cell_type": "code",
   "execution_count": 11,
   "metadata": {},
   "outputs": [],
   "source": [
    "# data.loc[:, ['variant', 'text with features']].to_excel('text_with_features_all.xlsx')"
   ]
  },
  {
   "cell_type": "code",
   "execution_count": 11,
   "metadata": {},
   "outputs": [
    {
     "data": {
      "text/plain": [
       "\"It<PRON PRP> appears<VERB VBZ> to<PART TO> be<VERB VB> a<DET DT> scene<NOUN NN> that<DET WDT> has<VERB VBZ> both<CCONJ CC> a<DET DT> house<NOUN NN> that<DET WDT> someone<PRON NN> might<AUX MD> live<VERB VB> in<ADP IN> and<CCONJ CC> a<DET DT> lake<NOUN NN>. And<CCONJ CC> On<ADP IN> the<DET DT> lake<NOUN NN> is<AUX VBZ> a<DET DT> sailboat<NOUN NN> with<ADP IN> people<NOUN NNS> sailing<VERB VBG>, there<PRON EX> 's<AUX VBZ> also<ADV RB> appears<VERB VBZ> to<PART TO> be<VERB VB> someone<PRON NN> sitting<VERB VBG> on<ADP IN> a<DET DT> pier<NOUN NN> fishing<NOUN NN>. There<PRON EX> 's<AUX VBZ> There<PRON EX> also<ADV RB> appears<VERB VBZ> to<PART TO> be<VERB VB> a<DET DT> child<NOUN NN> playing<VERB VBG> in<ADP IN> sand<NOUN NN>. They<PRON PRP> they<PRON PRP> are<AUX VBP> in<ADP IN> the<DET DT> water<NOUN NN> but<CCONJ CC> there<PRON EX> is<VERB VBZ> a<DET DT> sand<NOUN NN> bucket<NOUN NN> and<CCONJ CC> a<DET DT> shovel<NOUN NN>. There<PRON EX> 's<AUX VBZ> a<DET DT> young<ADJ JJ>. maybe<ADV RB> a<DET DT> teenager<NOUN NN>, or<CCONJ CC> a<DET DT> young<ADJ JJ> person<NOUN NN> flying<VERB VBG> a<DET DT> kite<NOUN NN>. They<PRON PRP> also<ADV RB> appear<VERB VBP> to<PART TO> be<VERB VB> with<ADP IN> a<DET DT> dog<NOUN NN>. And<CCONJ CC> there<PRON EX> 's<AUX VBZ> a<DET DT> flagpole<NOUN NN> with<ADP IN> a<DET DT> flag<NOUN NN> flying<VERB VBG> so<ADV RB> there<PRON EX> must<AUX MD> be<VERB VB> a<DET DT> bit<NOUN NN> of<ADP IN> a<DET DT> breeze<NOUN NN>. And<CCONJ CC> in<ADP IN> the<DET DT> background<NOUN NN>, on<ADP IN> the<DET DT> left<NOUN NN>, there<PRON EX> 's<AUX VBZ> a<DET DT> house<NOUN NN> with<ADP IN> a<DET DT> car<NOUN NN> in<ADP IN> the<DET DT> drive<NOUN NN> way<NOUN NN>. In<ADP IN> the<DET DT> foreground<NOUN NN>, there<PRON EX> 's<AUX VBZ> a<DET DT> tree<NOUN NN> and<CCONJ CC> under<ADP IN> the<DET DT> tree<NOUN NN> are<VERB VBP> are<AUX VBP> a<DET DT> couple<NOUN NN> who<PRON WP> appear<VERB VBP> to<PART TO> be<AUX VB> having<VERB VBG> a<DET DT> picnic<NOUN NN>. They<PRON PRP> are<AUX VBP> sitting<VERB VBG> on<ADP IN> a<DET DT> blanket<NOUN NN>, they<PRON PRP> have<VERB VBP> a<DET DT> transistor<NOUN NN> radio<NOUN NN>, they<PRON PRP> have<VERB VBP> a<DET DT> picnic<NOUN NN> basket<NOUN NN>. The<DET DT> man<NOUN NN> has<VERB VBZ> his<PRON PRP$> sandals<NOUN NNS> off<ADP RP> and<CCONJ CC> he<PRON PRP> 's<AUX VBZ> reading<VERB VBG> a<DET DT> book<NOUN NN>, and<CCONJ CC> he<PRON PRP> with<ADP IN> and<CCONJ CC> he<PRON PRP> is<AUX VBZ> wearing<VERB VBG> glasses<NOUN NNS>. And<CCONJ CC> the<DET DT> woman<NOUN NN> appears<VERB VBZ> to<PART TO> be<AUX VB> pouring<VERB VBG> a<DET DT> liquid<NOUN NN> into<ADP IN> a<DET DT> into<ADP IN> a<DET DT> glass<NOUN NN>.\""
      ]
     },
     "execution_count": 11,
     "metadata": {},
     "output_type": "execute_result"
    }
   ],
   "source": [
    "data.loc[1619, 'text with pos'].loc[0]"
   ]
  },
  {
   "cell_type": "code",
   "execution_count": 19,
   "metadata": {},
   "outputs": [],
   "source": [
    "svg_29231 = spacy.displacy.render(list(data.loc[29231, 'doc'].iloc[0].sents)[0], jupyter=False)\n",
    "with open('rendered_29231.svg', 'w') as f:\n",
    "    f.write(svg_29231)"
   ]
  },
  {
   "cell_type": "code",
   "execution_count": 24,
   "metadata": {},
   "outputs": [],
   "source": [
    "svg_28437 = spacy.displacy.render(list(data.loc[28437, 'doc'].iloc[0].sents)[0][:-1], jupyter=False)\n",
    "with open('rendered_28437.svg', 'w') as f:\n",
    "    f.write(svg_28437)"
   ]
  },
  {
   "cell_type": "code",
   "execution_count": 21,
   "metadata": {},
   "outputs": [],
   "source": [
    "svg_1619 = spacy.displacy.render(list(data.loc[1619, 'doc'].iloc[0].sents)[7], jupyter=False)\n",
    "with open('rendered_1619_7.svg', 'w') as f:\n",
    "    f.write(svg_1619)"
   ]
  },
  {
   "cell_type": "code",
   "execution_count": 45,
   "metadata": {},
   "outputs": [],
   "source": [
    "svg_1653 = spacy.displacy.render(list(data.loc[1653, 'doc'].iloc[0].sents)[24], jupyter=False)\n",
    "with open('rendered_1653.svg', 'w') as f:\n",
    "    f.write(svg_1653)"
   ]
  },
  {
   "cell_type": "code",
   "execution_count": 44,
   "metadata": {},
   "outputs": [
    {
     "data": {
      "text/html": [
       "<span class=\"tex2jax_ignore\"><svg xmlns=\"http://www.w3.org/2000/svg\" xmlns:xlink=\"http://www.w3.org/1999/xlink\" xml:lang=\"en\" id=\"211089bac6234df29e21d6477386166f-0\" class=\"displacy\" width=\"1975\" height=\"487.0\" direction=\"ltr\" style=\"max-width: none; height: 487.0px; color: #000000; background: #ffffff; font-family: Arial; direction: ltr\">\n",
       "<text class=\"displacy-token\" fill=\"currentColor\" text-anchor=\"middle\" y=\"397.0\">\n",
       "    <tspan class=\"displacy-word\" fill=\"currentColor\" x=\"50\">He</tspan>\n",
       "    <tspan class=\"displacy-tag\" dy=\"2em\" fill=\"currentColor\" x=\"50\">PRON</tspan>\n",
       "</text>\n",
       "\n",
       "<text class=\"displacy-token\" fill=\"currentColor\" text-anchor=\"middle\" y=\"397.0\">\n",
       "    <tspan class=\"displacy-word\" fill=\"currentColor\" x=\"225\">'s</tspan>\n",
       "    <tspan class=\"displacy-tag\" dy=\"2em\" fill=\"currentColor\" x=\"225\">AUX</tspan>\n",
       "</text>\n",
       "\n",
       "<text class=\"displacy-token\" fill=\"currentColor\" text-anchor=\"middle\" y=\"397.0\">\n",
       "    <tspan class=\"displacy-word\" fill=\"currentColor\" x=\"400\">reading</tspan>\n",
       "    <tspan class=\"displacy-tag\" dy=\"2em\" fill=\"currentColor\" x=\"400\">VERB</tspan>\n",
       "</text>\n",
       "\n",
       "<text class=\"displacy-token\" fill=\"currentColor\" text-anchor=\"middle\" y=\"397.0\">\n",
       "    <tspan class=\"displacy-word\" fill=\"currentColor\" x=\"575\">a</tspan>\n",
       "    <tspan class=\"displacy-tag\" dy=\"2em\" fill=\"currentColor\" x=\"575\">DET</tspan>\n",
       "</text>\n",
       "\n",
       "<text class=\"displacy-token\" fill=\"currentColor\" text-anchor=\"middle\" y=\"397.0\">\n",
       "    <tspan class=\"displacy-word\" fill=\"currentColor\" x=\"750\">book</tspan>\n",
       "    <tspan class=\"displacy-tag\" dy=\"2em\" fill=\"currentColor\" x=\"750\">NOUN</tspan>\n",
       "</text>\n",
       "\n",
       "<text class=\"displacy-token\" fill=\"currentColor\" text-anchor=\"middle\" y=\"397.0\">\n",
       "    <tspan class=\"displacy-word\" fill=\"currentColor\" x=\"925\">while</tspan>\n",
       "    <tspan class=\"displacy-tag\" dy=\"2em\" fill=\"currentColor\" x=\"925\">SCONJ</tspan>\n",
       "</text>\n",
       "\n",
       "<text class=\"displacy-token\" fill=\"currentColor\" text-anchor=\"middle\" y=\"397.0\">\n",
       "    <tspan class=\"displacy-word\" fill=\"currentColor\" x=\"1100\">she</tspan>\n",
       "    <tspan class=\"displacy-tag\" dy=\"2em\" fill=\"currentColor\" x=\"1100\">PRON</tspan>\n",
       "</text>\n",
       "\n",
       "<text class=\"displacy-token\" fill=\"currentColor\" text-anchor=\"middle\" y=\"397.0\">\n",
       "    <tspan class=\"displacy-word\" fill=\"currentColor\" x=\"1275\">is</tspan>\n",
       "    <tspan class=\"displacy-tag\" dy=\"2em\" fill=\"currentColor\" x=\"1275\">AUX</tspan>\n",
       "</text>\n",
       "\n",
       "<text class=\"displacy-token\" fill=\"currentColor\" text-anchor=\"middle\" y=\"397.0\">\n",
       "    <tspan class=\"displacy-word\" fill=\"currentColor\" x=\"1450\">pouring</tspan>\n",
       "    <tspan class=\"displacy-tag\" dy=\"2em\" fill=\"currentColor\" x=\"1450\">VERB</tspan>\n",
       "</text>\n",
       "\n",
       "<text class=\"displacy-token\" fill=\"currentColor\" text-anchor=\"middle\" y=\"397.0\">\n",
       "    <tspan class=\"displacy-word\" fill=\"currentColor\" x=\"1625\">some</tspan>\n",
       "    <tspan class=\"displacy-tag\" dy=\"2em\" fill=\"currentColor\" x=\"1625\">DET</tspan>\n",
       "</text>\n",
       "\n",
       "<text class=\"displacy-token\" fill=\"currentColor\" text-anchor=\"middle\" y=\"397.0\">\n",
       "    <tspan class=\"displacy-word\" fill=\"currentColor\" x=\"1800\">liquid.</tspan>\n",
       "    <tspan class=\"displacy-tag\" dy=\"2em\" fill=\"currentColor\" x=\"1800\">NOUN</tspan>\n",
       "</text>\n",
       "\n",
       "<g class=\"displacy-arrow\">\n",
       "    <path class=\"displacy-arc\" id=\"arrow-211089bac6234df29e21d6477386166f-0-0\" stroke-width=\"2px\" d=\"M70,352.0 C70,177.0 390.0,177.0 390.0,352.0\" fill=\"none\" stroke=\"currentColor\"/>\n",
       "    <text dy=\"1.25em\" style=\"font-size: 0.8em; letter-spacing: 1px\">\n",
       "        <textPath xlink:href=\"#arrow-211089bac6234df29e21d6477386166f-0-0\" class=\"displacy-label\" startOffset=\"50%\" side=\"left\" fill=\"currentColor\" text-anchor=\"middle\">nsubj</textPath>\n",
       "    </text>\n",
       "    <path class=\"displacy-arrowhead\" d=\"M70,354.0 L62,342.0 78,342.0\" fill=\"currentColor\"/>\n",
       "</g>\n",
       "\n",
       "<g class=\"displacy-arrow\">\n",
       "    <path class=\"displacy-arc\" id=\"arrow-211089bac6234df29e21d6477386166f-0-1\" stroke-width=\"2px\" d=\"M245,352.0 C245,264.5 385.0,264.5 385.0,352.0\" fill=\"none\" stroke=\"currentColor\"/>\n",
       "    <text dy=\"1.25em\" style=\"font-size: 0.8em; letter-spacing: 1px\">\n",
       "        <textPath xlink:href=\"#arrow-211089bac6234df29e21d6477386166f-0-1\" class=\"displacy-label\" startOffset=\"50%\" side=\"left\" fill=\"currentColor\" text-anchor=\"middle\">aux</textPath>\n",
       "    </text>\n",
       "    <path class=\"displacy-arrowhead\" d=\"M245,354.0 L237,342.0 253,342.0\" fill=\"currentColor\"/>\n",
       "</g>\n",
       "\n",
       "<g class=\"displacy-arrow\">\n",
       "    <path class=\"displacy-arc\" id=\"arrow-211089bac6234df29e21d6477386166f-0-2\" stroke-width=\"2px\" d=\"M595,352.0 C595,264.5 735.0,264.5 735.0,352.0\" fill=\"none\" stroke=\"currentColor\"/>\n",
       "    <text dy=\"1.25em\" style=\"font-size: 0.8em; letter-spacing: 1px\">\n",
       "        <textPath xlink:href=\"#arrow-211089bac6234df29e21d6477386166f-0-2\" class=\"displacy-label\" startOffset=\"50%\" side=\"left\" fill=\"currentColor\" text-anchor=\"middle\">det</textPath>\n",
       "    </text>\n",
       "    <path class=\"displacy-arrowhead\" d=\"M595,354.0 L587,342.0 603,342.0\" fill=\"currentColor\"/>\n",
       "</g>\n",
       "\n",
       "<g class=\"displacy-arrow\">\n",
       "    <path class=\"displacy-arc\" id=\"arrow-211089bac6234df29e21d6477386166f-0-3\" stroke-width=\"2px\" d=\"M420,352.0 C420,177.0 740.0,177.0 740.0,352.0\" fill=\"none\" stroke=\"currentColor\"/>\n",
       "    <text dy=\"1.25em\" style=\"font-size: 0.8em; letter-spacing: 1px\">\n",
       "        <textPath xlink:href=\"#arrow-211089bac6234df29e21d6477386166f-0-3\" class=\"displacy-label\" startOffset=\"50%\" side=\"left\" fill=\"currentColor\" text-anchor=\"middle\">dobj</textPath>\n",
       "    </text>\n",
       "    <path class=\"displacy-arrowhead\" d=\"M740.0,354.0 L748.0,342.0 732.0,342.0\" fill=\"currentColor\"/>\n",
       "</g>\n",
       "\n",
       "<g class=\"displacy-arrow\">\n",
       "    <path class=\"displacy-arc\" id=\"arrow-211089bac6234df29e21d6477386166f-0-4\" stroke-width=\"2px\" d=\"M945,352.0 C945,89.5 1445.0,89.5 1445.0,352.0\" fill=\"none\" stroke=\"currentColor\"/>\n",
       "    <text dy=\"1.25em\" style=\"font-size: 0.8em; letter-spacing: 1px\">\n",
       "        <textPath xlink:href=\"#arrow-211089bac6234df29e21d6477386166f-0-4\" class=\"displacy-label\" startOffset=\"50%\" side=\"left\" fill=\"currentColor\" text-anchor=\"middle\">mark</textPath>\n",
       "    </text>\n",
       "    <path class=\"displacy-arrowhead\" d=\"M945,354.0 L937,342.0 953,342.0\" fill=\"currentColor\"/>\n",
       "</g>\n",
       "\n",
       "<g class=\"displacy-arrow\">\n",
       "    <path class=\"displacy-arc\" id=\"arrow-211089bac6234df29e21d6477386166f-0-5\" stroke-width=\"2px\" d=\"M1120,352.0 C1120,177.0 1440.0,177.0 1440.0,352.0\" fill=\"none\" stroke=\"currentColor\"/>\n",
       "    <text dy=\"1.25em\" style=\"font-size: 0.8em; letter-spacing: 1px\">\n",
       "        <textPath xlink:href=\"#arrow-211089bac6234df29e21d6477386166f-0-5\" class=\"displacy-label\" startOffset=\"50%\" side=\"left\" fill=\"currentColor\" text-anchor=\"middle\">nsubj</textPath>\n",
       "    </text>\n",
       "    <path class=\"displacy-arrowhead\" d=\"M1120,354.0 L1112,342.0 1128,342.0\" fill=\"currentColor\"/>\n",
       "</g>\n",
       "\n",
       "<g class=\"displacy-arrow\">\n",
       "    <path class=\"displacy-arc\" id=\"arrow-211089bac6234df29e21d6477386166f-0-6\" stroke-width=\"2px\" d=\"M1295,352.0 C1295,264.5 1435.0,264.5 1435.0,352.0\" fill=\"none\" stroke=\"currentColor\"/>\n",
       "    <text dy=\"1.25em\" style=\"font-size: 0.8em; letter-spacing: 1px\">\n",
       "        <textPath xlink:href=\"#arrow-211089bac6234df29e21d6477386166f-0-6\" class=\"displacy-label\" startOffset=\"50%\" side=\"left\" fill=\"currentColor\" text-anchor=\"middle\">aux</textPath>\n",
       "    </text>\n",
       "    <path class=\"displacy-arrowhead\" d=\"M1295,354.0 L1287,342.0 1303,342.0\" fill=\"currentColor\"/>\n",
       "</g>\n",
       "\n",
       "<g class=\"displacy-arrow\">\n",
       "    <path class=\"displacy-arc\" id=\"arrow-211089bac6234df29e21d6477386166f-0-7\" stroke-width=\"2px\" d=\"M420,352.0 C420,2.0 1450.0,2.0 1450.0,352.0\" fill=\"none\" stroke=\"currentColor\"/>\n",
       "    <text dy=\"1.25em\" style=\"font-size: 0.8em; letter-spacing: 1px\">\n",
       "        <textPath xlink:href=\"#arrow-211089bac6234df29e21d6477386166f-0-7\" class=\"displacy-label\" startOffset=\"50%\" side=\"left\" fill=\"currentColor\" text-anchor=\"middle\">advcl</textPath>\n",
       "    </text>\n",
       "    <path class=\"displacy-arrowhead\" d=\"M1450.0,354.0 L1458.0,342.0 1442.0,342.0\" fill=\"currentColor\"/>\n",
       "</g>\n",
       "\n",
       "<g class=\"displacy-arrow\">\n",
       "    <path class=\"displacy-arc\" id=\"arrow-211089bac6234df29e21d6477386166f-0-8\" stroke-width=\"2px\" d=\"M1645,352.0 C1645,264.5 1785.0,264.5 1785.0,352.0\" fill=\"none\" stroke=\"currentColor\"/>\n",
       "    <text dy=\"1.25em\" style=\"font-size: 0.8em; letter-spacing: 1px\">\n",
       "        <textPath xlink:href=\"#arrow-211089bac6234df29e21d6477386166f-0-8\" class=\"displacy-label\" startOffset=\"50%\" side=\"left\" fill=\"currentColor\" text-anchor=\"middle\">det</textPath>\n",
       "    </text>\n",
       "    <path class=\"displacy-arrowhead\" d=\"M1645,354.0 L1637,342.0 1653,342.0\" fill=\"currentColor\"/>\n",
       "</g>\n",
       "\n",
       "<g class=\"displacy-arrow\">\n",
       "    <path class=\"displacy-arc\" id=\"arrow-211089bac6234df29e21d6477386166f-0-9\" stroke-width=\"2px\" d=\"M1470,352.0 C1470,177.0 1790.0,177.0 1790.0,352.0\" fill=\"none\" stroke=\"currentColor\"/>\n",
       "    <text dy=\"1.25em\" style=\"font-size: 0.8em; letter-spacing: 1px\">\n",
       "        <textPath xlink:href=\"#arrow-211089bac6234df29e21d6477386166f-0-9\" class=\"displacy-label\" startOffset=\"50%\" side=\"left\" fill=\"currentColor\" text-anchor=\"middle\">dobj</textPath>\n",
       "    </text>\n",
       "    <path class=\"displacy-arrowhead\" d=\"M1790.0,354.0 L1798.0,342.0 1782.0,342.0\" fill=\"currentColor\"/>\n",
       "</g>\n",
       "</svg></span>"
      ],
      "text/plain": [
       "<IPython.core.display.HTML object>"
      ]
     },
     "metadata": {},
     "output_type": "display_data"
    }
   ],
   "source": [
    "spacy.displacy.render(list(data.loc[1653, 'doc'].iloc[0].sents)[24], style='dep')"
   ]
  },
  {
   "cell_type": "code",
   "execution_count": 35,
   "metadata": {},
   "outputs": [
    {
     "name": "stdout",
     "output_type": "stream",
     "text": [
      "[(0, 'Well<INTJ UH> the<DET DT> first<ADJ JJ> thing<NOUN NN> I<PRON PRP> see<VERB VBP> is<AUX VBZ> a<DET DT> dog<NOUN NN>. '), (1, 'The<DET DT> dog<NOUN NN> looks<VERB VBZ> like<SCONJ IN> my<DET PRP$> dog<NOUN NN>. '), (2, 'seeing<VERB VBG> him<PRON PRP> flying<VERB VBG> this<DET DT>. '), (3, 'I<PRON PRP> can<VERB MD> not<PART RB> remember<VERB VB> what<PRON WP> the<DET DT> name<NOUN NN> of<ADP IN> this<DET DT> is<AUX VBZ>. '), (4, \"It<PRON PRP> 's<AUX VBZ> up<ADV RB> in<ADP IN> the<DET DT> air<NOUN NN> there<ADV RB>. \"), (5, \"There<PRON EX> 's<AUX VBZ> a<DET DT> flag<NOUN NN> and<CCONJ CC>. \"), (6, \"Here<ADV RB> 's<AUX VBZ> a<DET DT> boat<NOUN NN>. \"), (7, \"Here<ADV RB> 's<AUX VBZ> someone<PRON NN> fishing<VERB VBG>. \"), (8, \"Of<ADV RB> course<ADV RB>, here<ADV RB> 's<AUX VBZ> a<DET DT> house<NOUN NN>. \"), (9, 'And<CCONJ CC> a<DET DT> variety<NOUN NN> of<ADP IN> trees<NOUN NNS> around<ADP IN> the<DET DT> house<NOUN NN>. '), (10, 'And<CCONJ CC> a<DET DT> car<NOUN NN> parked<VERB VBN> in<ADP IN> front<NOUN NN> of<ADP IN> the<DET DT> garage<NOUN NN>. '), (11, \"And<CCONJ CC> here<ADV RB> 's<AUX VBZ> a<DET DT> man<NOUN NN> and<CCONJ CC> woman<NOUN NN> eating<VERB VBG> sitting<VERB VBG> on<ADP IN> the<DET DT> ground<NOUN NN>. \"), (12, 'They<PRON PRP> have<AUX VBP> a<DET DT> radio<NOUN NN> beside<ADP IN> the<DET DT> woman<NOUN NN>. '), (13, 'They<PRON PRP> have<AUX VBP> food<NOUN NN> beside<ADP IN> the<DET DT> man<NOUN NN>. '), (14, \"He<PRON PRP> 's<AUX VBZ> reading<VERB VBG> a<DET DT> book<NOUN NN> while<SCONJ IN> she<PRON PRP> is<AUX VBZ> pouring<VERB VBG> some<DET DT> liquid<NOUN NN>. \"), (15, 'And<CCONJ CC> over<ADP IN> the<DET DT> far<ADV RB> right<ADJ JJ> side<NOUN NN> looks<VERB VBZ> like<SCONJ IN> a<DET DT> small<ADJ JJ> boy<NOUN NN> playing<VERB VBG> in<ADP IN> the<DET DT> water<NOUN NN>. '), (16, 'And<CCONJ CC> a<DET DT> couple<NOUN NN> of<ADP IN> toys<NOUN NNS> of<ADP IN> his<DET PRP$> still<ADV RB> in<ADP IN> the<DET DT>. '), (17, 'Now<ADV RB>, I<PRON PRP> forget<VERB VBP> what<PRON WP> the<DET DT> front<NOUN NN> of<ADP IN> this<DET DT> is<AUX VBZ> called<VERB VBN>. '), (18, \"But<CCONJ CC> I<PRON PRP> 'm<AUX VBP> gon<VERB VBG> na<PART TO> say<VERB VB> it<PRON PRP> 's<AUX VBZ> in<ADP IN> the<DET DT> sand<NOUN NN>. \"), (19, \"And<CCONJ CC> I<PRON PRP> think<VERB VBP> that<SCONJ IN> basically<ADV RB> describes<VERB VBZ> everything<PRON NN> that<DET WDT> 's<AUX VBZ> there<ADV RB>.\")]\n"
     ]
    }
   ],
   "source": [
    "print(list(enumerate(\"\"\"Well<INTJ UH> the<DET DT> first<ADJ JJ> thing<NOUN NN> I<PRON PRP> see<VERB VBP> is<AUX VBZ> a<DET DT> dog<NOUN NN>. \n",
    "The<DET DT> dog<NOUN NN> looks<VERB VBZ> like<SCONJ IN> my<DET PRP$> dog<NOUN NN>. \n",
    "seeing<VERB VBG> him<PRON PRP> flying<VERB VBG> this<DET DT>. \n",
    "I<PRON PRP> can<VERB MD> not<PART RB> remember<VERB VB> what<PRON WP> the<DET DT> name<NOUN NN> of<ADP IN> this<DET DT> is<AUX VBZ>. \n",
    "It<PRON PRP> 's<AUX VBZ> up<ADV RB> in<ADP IN> the<DET DT> air<NOUN NN> there<ADV RB>. \n",
    "There<PRON EX> 's<AUX VBZ> a<DET DT> flag<NOUN NN> and<CCONJ CC>. \n",
    "Here<ADV RB> 's<AUX VBZ> a<DET DT> boat<NOUN NN>. \n",
    "Here<ADV RB> 's<AUX VBZ> someone<PRON NN> fishing<VERB VBG>. \n",
    "Of<ADV RB> course<ADV RB>, here<ADV RB> 's<AUX VBZ> a<DET DT> house<NOUN NN>. \n",
    "And<CCONJ CC> a<DET DT> variety<NOUN NN> of<ADP IN> trees<NOUN NNS> around<ADP IN> the<DET DT> house<NOUN NN>. \n",
    "And<CCONJ CC> a<DET DT> car<NOUN NN> parked<VERB VBN> in<ADP IN> front<NOUN NN> of<ADP IN> the<DET DT> garage<NOUN NN>. \n",
    "And<CCONJ CC> here<ADV RB> 's<AUX VBZ> a<DET DT> man<NOUN NN> and<CCONJ CC> woman<NOUN NN> eating<VERB VBG> sitting<VERB VBG> on<ADP IN> the<DET DT> ground<NOUN NN>. \n",
    "They<PRON PRP> have<AUX VBP> a<DET DT> radio<NOUN NN> beside<ADP IN> the<DET DT> woman<NOUN NN>. \n",
    "They<PRON PRP> have<AUX VBP> food<NOUN NN> beside<ADP IN> the<DET DT> man<NOUN NN>. \n",
    "He<PRON PRP> 's<AUX VBZ> reading<VERB VBG> a<DET DT> book<NOUN NN> while<SCONJ IN> she<PRON PRP> is<AUX VBZ> pouring<VERB VBG> some<DET DT> liquid<NOUN NN>. \n",
    "And<CCONJ CC> over<ADP IN> the<DET DT> far<ADV RB> right<ADJ JJ> side<NOUN NN> looks<VERB VBZ> like<SCONJ IN> a<DET DT> small<ADJ JJ> boy<NOUN NN> playing<VERB VBG> in<ADP IN> the<DET DT> water<NOUN NN>. \n",
    "And<CCONJ CC> a<DET DT> couple<NOUN NN> of<ADP IN> toys<NOUN NNS> of<ADP IN> his<DET PRP$> still<ADV RB> in<ADP IN> the<DET DT>. \n",
    "Now<ADV RB>, I<PRON PRP> forget<VERB VBP> what<PRON WP> the<DET DT> front<NOUN NN> of<ADP IN> this<DET DT> is<AUX VBZ> called<VERB VBN>. \n",
    "But<CCONJ CC> I<PRON PRP> 'm<AUX VBP> gon<VERB VBG> na<PART TO> say<VERB VB> it<PRON PRP> 's<AUX VBZ> in<ADP IN> the<DET DT> sand<NOUN NN>. \n",
    "And<CCONJ CC> I<PRON PRP> think<VERB VBP> that<SCONJ IN> basically<ADV RB> describes<VERB VBZ> everything<PRON NN> that<DET WDT> 's<AUX VBZ> there<ADV RB>.\"\"\".split('\\n'))))"
   ]
  },
  {
   "cell_type": "code",
   "execution_count": 29,
   "metadata": {},
   "outputs": [
    {
     "data": {
      "text/html": [
       "<span class=\"tex2jax_ignore\"><svg xmlns=\"http://www.w3.org/2000/svg\" xmlns:xlink=\"http://www.w3.org/1999/xlink\" xml:lang=\"en\" id=\"15db62ed1d0b470db81d80e1cdb457c9-0\" class=\"displacy\" width=\"1100\" height=\"399.5\" direction=\"ltr\" style=\"max-width: none; height: 399.5px; color: #000000; background: #ffffff; font-family: Arial; direction: ltr\">\n",
       "<text class=\"displacy-token\" fill=\"currentColor\" text-anchor=\"middle\" y=\"309.5\">\n",
       "    <tspan class=\"displacy-word\" fill=\"currentColor\" x=\"50\">He</tspan>\n",
       "    <tspan class=\"displacy-tag\" dy=\"2em\" fill=\"currentColor\" x=\"50\">PRON</tspan>\n",
       "</text>\n",
       "\n",
       "<text class=\"displacy-token\" fill=\"currentColor\" text-anchor=\"middle\" y=\"309.5\">\n",
       "    <tspan class=\"displacy-word\" fill=\"currentColor\" x=\"225\">came</tspan>\n",
       "    <tspan class=\"displacy-tag\" dy=\"2em\" fill=\"currentColor\" x=\"225\">VERB</tspan>\n",
       "</text>\n",
       "\n",
       "<text class=\"displacy-token\" fill=\"currentColor\" text-anchor=\"middle\" y=\"309.5\">\n",
       "    <tspan class=\"displacy-word\" fill=\"currentColor\" x=\"400\">while</tspan>\n",
       "    <tspan class=\"displacy-tag\" dy=\"2em\" fill=\"currentColor\" x=\"400\">SCONJ</tspan>\n",
       "</text>\n",
       "\n",
       "<text class=\"displacy-token\" fill=\"currentColor\" text-anchor=\"middle\" y=\"309.5\">\n",
       "    <tspan class=\"displacy-word\" fill=\"currentColor\" x=\"575\">I</tspan>\n",
       "    <tspan class=\"displacy-tag\" dy=\"2em\" fill=\"currentColor\" x=\"575\">PRON</tspan>\n",
       "</text>\n",
       "\n",
       "<text class=\"displacy-token\" fill=\"currentColor\" text-anchor=\"middle\" y=\"309.5\">\n",
       "    <tspan class=\"displacy-word\" fill=\"currentColor\" x=\"750\">was</tspan>\n",
       "    <tspan class=\"displacy-tag\" dy=\"2em\" fill=\"currentColor\" x=\"750\">VERB</tspan>\n",
       "</text>\n",
       "\n",
       "<text class=\"displacy-token\" fill=\"currentColor\" text-anchor=\"middle\" y=\"309.5\">\n",
       "    <tspan class=\"displacy-word\" fill=\"currentColor\" x=\"925\">there.</tspan>\n",
       "    <tspan class=\"displacy-tag\" dy=\"2em\" fill=\"currentColor\" x=\"925\">ADV</tspan>\n",
       "</text>\n",
       "\n",
       "<g class=\"displacy-arrow\">\n",
       "    <path class=\"displacy-arc\" id=\"arrow-15db62ed1d0b470db81d80e1cdb457c9-0-0\" stroke-width=\"2px\" d=\"M70,264.5 C70,177.0 215.0,177.0 215.0,264.5\" fill=\"none\" stroke=\"currentColor\"/>\n",
       "    <text dy=\"1.25em\" style=\"font-size: 0.8em; letter-spacing: 1px\">\n",
       "        <textPath xlink:href=\"#arrow-15db62ed1d0b470db81d80e1cdb457c9-0-0\" class=\"displacy-label\" startOffset=\"50%\" side=\"left\" fill=\"currentColor\" text-anchor=\"middle\">nsubj</textPath>\n",
       "    </text>\n",
       "    <path class=\"displacy-arrowhead\" d=\"M70,266.5 L62,254.5 78,254.5\" fill=\"currentColor\"/>\n",
       "</g>\n",
       "\n",
       "<g class=\"displacy-arrow\">\n",
       "    <path class=\"displacy-arc\" id=\"arrow-15db62ed1d0b470db81d80e1cdb457c9-0-1\" stroke-width=\"2px\" d=\"M420,264.5 C420,89.5 745.0,89.5 745.0,264.5\" fill=\"none\" stroke=\"currentColor\"/>\n",
       "    <text dy=\"1.25em\" style=\"font-size: 0.8em; letter-spacing: 1px\">\n",
       "        <textPath xlink:href=\"#arrow-15db62ed1d0b470db81d80e1cdb457c9-0-1\" class=\"displacy-label\" startOffset=\"50%\" side=\"left\" fill=\"currentColor\" text-anchor=\"middle\">mark</textPath>\n",
       "    </text>\n",
       "    <path class=\"displacy-arrowhead\" d=\"M420,266.5 L412,254.5 428,254.5\" fill=\"currentColor\"/>\n",
       "</g>\n",
       "\n",
       "<g class=\"displacy-arrow\">\n",
       "    <path class=\"displacy-arc\" id=\"arrow-15db62ed1d0b470db81d80e1cdb457c9-0-2\" stroke-width=\"2px\" d=\"M595,264.5 C595,177.0 740.0,177.0 740.0,264.5\" fill=\"none\" stroke=\"currentColor\"/>\n",
       "    <text dy=\"1.25em\" style=\"font-size: 0.8em; letter-spacing: 1px\">\n",
       "        <textPath xlink:href=\"#arrow-15db62ed1d0b470db81d80e1cdb457c9-0-2\" class=\"displacy-label\" startOffset=\"50%\" side=\"left\" fill=\"currentColor\" text-anchor=\"middle\">nsubj</textPath>\n",
       "    </text>\n",
       "    <path class=\"displacy-arrowhead\" d=\"M595,266.5 L587,254.5 603,254.5\" fill=\"currentColor\"/>\n",
       "</g>\n",
       "\n",
       "<g class=\"displacy-arrow\">\n",
       "    <path class=\"displacy-arc\" id=\"arrow-15db62ed1d0b470db81d80e1cdb457c9-0-3\" stroke-width=\"2px\" d=\"M245,264.5 C245,2.0 750.0,2.0 750.0,264.5\" fill=\"none\" stroke=\"currentColor\"/>\n",
       "    <text dy=\"1.25em\" style=\"font-size: 0.8em; letter-spacing: 1px\">\n",
       "        <textPath xlink:href=\"#arrow-15db62ed1d0b470db81d80e1cdb457c9-0-3\" class=\"displacy-label\" startOffset=\"50%\" side=\"left\" fill=\"currentColor\" text-anchor=\"middle\">advcl</textPath>\n",
       "    </text>\n",
       "    <path class=\"displacy-arrowhead\" d=\"M750.0,266.5 L758.0,254.5 742.0,254.5\" fill=\"currentColor\"/>\n",
       "</g>\n",
       "\n",
       "<g class=\"displacy-arrow\">\n",
       "    <path class=\"displacy-arc\" id=\"arrow-15db62ed1d0b470db81d80e1cdb457c9-0-4\" stroke-width=\"2px\" d=\"M770,264.5 C770,177.0 915.0,177.0 915.0,264.5\" fill=\"none\" stroke=\"currentColor\"/>\n",
       "    <text dy=\"1.25em\" style=\"font-size: 0.8em; letter-spacing: 1px\">\n",
       "        <textPath xlink:href=\"#arrow-15db62ed1d0b470db81d80e1cdb457c9-0-4\" class=\"displacy-label\" startOffset=\"50%\" side=\"left\" fill=\"currentColor\" text-anchor=\"middle\">advmod</textPath>\n",
       "    </text>\n",
       "    <path class=\"displacy-arrowhead\" d=\"M915.0,266.5 L923.0,254.5 907.0,254.5\" fill=\"currentColor\"/>\n",
       "</g>\n",
       "</svg></span>"
      ],
      "text/plain": [
       "<IPython.core.display.HTML object>"
      ]
     },
     "metadata": {},
     "output_type": "display_data"
    }
   ],
   "source": [
    "spacy.displacy.render(nlp('He came while I was there.'))"
   ]
  },
  {
   "cell_type": "code",
   "execution_count": 12,
   "metadata": {},
   "outputs": [],
   "source": [
    "# data.loc[:, ['variant', 'text with pos']].to_excel('text_with_pos_all.xlsx')"
   ]
  },
  {
   "cell_type": "code",
   "execution_count": 13,
   "metadata": {},
   "outputs": [
    {
     "name": "stdout",
     "output_type": "stream",
     "text": [
      "I do<aux> n't know<i ...> she pours<verb> wine<argument> into a cup<argument>.\n"
     ]
    }
   ],
   "source": [
    "doc = nlp('I don\\'t know she pours wine into a cup.')\n",
    "add_feature(doc)\n",
    "print(get_text_with_features(doc))\n",
    "# spacy.displacy.render(doc)"
   ]
  },
  {
   "cell_type": "code",
   "execution_count": 14,
   "metadata": {},
   "outputs": [
    {
     "name": "stdout",
     "output_type": "stream",
     "text": [
      "there, it appears to be a woodsy setting.\n"
     ]
    }
   ],
   "source": [
    "doc = data.loc[(25694, 0), 'doc']\n",
    "add_feature(doc)\n",
    "print((list(doc.sents)[4]))\n",
    "# spacy.displacy.render(list(doc.sents)[4])"
   ]
  },
  {
   "cell_type": "code",
   "execution_count": 15,
   "metadata": {},
   "outputs": [],
   "source": [
    "# print(data.loc[8438, 'processed text'])"
   ]
  },
  {
   "cell_type": "code",
   "execution_count": 16,
   "metadata": {},
   "outputs": [],
   "source": [
    "# list(data.loc[8438, 'doc'].sents)[2]"
   ]
  },
  {
   "cell_type": "code",
   "execution_count": 17,
   "metadata": {},
   "outputs": [],
   "source": [
    "# spacy.displacy.render(data.loc[8438, 'doc'])"
   ]
  },
  {
   "cell_type": "code",
   "execution_count": 18,
   "metadata": {},
   "outputs": [],
   "source": [
    "# spacy.displacy.render(doc)"
   ]
  },
  {
   "cell_type": "code",
   "execution_count": 19,
   "metadata": {},
   "outputs": [],
   "source": [
    "# data.loc[:, ['variant']].join(data.loc[:, 'ADJ':'verb'].astype(int)).to_excel('data.xlsx')"
   ]
  },
  {
   "cell_type": "code",
   "execution_count": 20,
   "metadata": {},
   "outputs": [],
   "source": [
    "nouns_verbs = pd.DataFrame(columns=['pidn', 'noun', 'verb']).set_index('pidn')\n",
    "nouns_verbs.loc[:, 'noun'] = data.loc[:, 'doc'].apply(lambda x: set([y.lemma_ for y in x if y.pos_ == 'NOUN']))\n",
    "nouns_verbs.loc[:, 'verb'] = data.loc[:, 'doc'].apply(lambda x: set([y.lemma_ for y in x if y.pos_ == 'VERB']))\n",
    "# nouns_verbs.to_excel('nouns_verbs.xlsx')"
   ]
  },
  {
   "cell_type": "code",
   "execution_count": 21,
   "metadata": {},
   "outputs": [
    {
     "data": {
      "image/png": "[encoded data removed]",
      "text/plain": [
       "<Figure size 288x288 with 1 Axes>"
      ]
     },
     "metadata": {
      "needs_background": "light"
     },
     "output_type": "display_data"
    },
    {
     "data": {
      "image/png": "[encoded data removed]",
      "text/plain": [
       "<Figure size 288x288 with 1 Axes>"
      ]
     },
     "metadata": {
      "needs_background": "light"
     },
     "output_type": "display_data"
    },
    {
     "data": {
      "image/png": "[encoded data removed]",
      "text/plain": [
       "<Figure size 288x288 with 1 Axes>"
      ]
     },
     "metadata": {
      "needs_background": "light"
     },
     "output_type": "display_data"
    },
    {
     "data": {
      "image/png": "[encoded data removed]",
      "text/plain": [
       "<Figure size 288x288 with 1 Axes>"
      ]
     },
     "metadata": {
      "needs_background": "light"
     },
     "output_type": "display_data"
    },
    {
     "data": {
      "image/png": "[encoded data removed]",
      "text/plain": [
       "<Figure size 288x288 with 1 Axes>"
      ]
     },
     "metadata": {
      "needs_background": "light"
     },
     "output_type": "display_data"
    },
    {
     "data": {
      "image/png": "[encoded data removed]",
      "text/plain": [
       "<Figure size 288x288 with 1 Axes>"
      ]
     },
     "metadata": {
      "needs_background": "light"
     },
     "output_type": "display_data"
    },
    {
     "data": {
      "image/png": "[encoded data removed]",
      "text/plain": [
       "<Figure size 288x288 with 1 Axes>"
      ]
     },
     "metadata": {
      "needs_background": "light"
     },
     "output_type": "display_data"
    }
   ],
   "source": [
    "for variant in data['variant'].unique():\n",
    "    fig = graph_features(data, variant, features=['verb', 'argument', 'adjunct', 'predicate'], sentiment=False);\n",
    "#     fig.savefig('figures/verb_argument_adjunct/{}.png'.format(variant))"
   ]
  },
  {
   "cell_type": "code",
   "execution_count": 22,
   "metadata": {},
   "outputs": [
    {
     "data": {
      "text/plain": [
       "<AxesSubplot:xlabel='variant', ylabel='arg_adj_ratio'>"
      ]
     },
     "execution_count": 22,
     "metadata": {},
     "output_type": "execute_result"
    },
    {
     "data": {
      "image/png": "[encoded data removed]",
      "text/plain": [
       "<Figure size 432x288 with 1 Axes>"
      ]
     },
     "metadata": {
      "needs_background": "light"
     },
     "output_type": "display_data"
    }
   ],
   "source": [
    "data.loc[:, 'arg_adj_ratio'] = data.loc[:, 'argument'] / data.loc[:, 'adjunct'].apply(lambda x: x if x > 0 else 1)\n",
    "sns.barplot(y='arg_adj_ratio', x='variant', order=['CTRL', 'lvPPA', 'nfvPPA'], data=data)\n",
    "# plt.savefig('figures/arg_adj_ratio.png')"
   ]
  },
  {
   "cell_type": "code",
   "execution_count": 23,
   "metadata": {},
   "outputs": [],
   "source": [
    "# data.loc[:, ['variant']].join(data.loc[:, 'sentiment':'arg_adj_ratio']).to_excel('data.xlsx')"
   ]
  },
  {
   "cell_type": "code",
   "execution_count": 24,
   "metadata": {},
   "outputs": [],
   "source": [
    "# data.loc[data['variant'] == 'nfvPPA', 'text with features'].to_excel('nfvppa_text_with_features.xlsx')"
   ]
  },
  {
   "cell_type": "code",
   "execution_count": 26,
   "metadata": {},
   "outputs": [],
   "source": [
    "# data.loc[:, ['words', 'stop words', 'sentences']] = data.loc[:, 'doc'].apply(lambda doc: pd.Series((len(doc), sum([token.is_stop for token in doc]), len(list(doc.sents))), index=('words', 'stop words', 'sentences')))"
   ]
  },
  {
   "cell_type": "code",
   "execution_count": null,
   "metadata": {},
   "outputs": [],
   "source": [
    "# data.loc[:, ['variant']].join(data.loc[:, 'ADJ':'VERB']).to_excel('aggregate_pos_all.xlsx')"
   ]
  },
  {
   "cell_type": "code",
   "execution_count": null,
   "metadata": {},
   "outputs": [],
   "source": [
    "# data.loc[:, ['variant']].join(data.loc[:, 'ADJ':]).drop(columns='text with pos').to_excel('aggregate_all.xlsx')"
   ]
  },
  {
   "cell_type": "code",
   "execution_count": null,
   "metadata": {},
   "outputs": [],
   "source": [
    "morphosyntactic_features = ['CCONJ CC', 'DET PRP$', 'DET WP$',\n",
    "                            'PRON NN', 'PRON PRP', 'PRON WP', 'PROPN NNP', 'SCONJ IN',\n",
    "                            'VERB MD', 'VERB VB', 'VERB VBD', 'VERB VBG', 'VERB VBN',\n",
    "                            'VERB VBP', 'VERB VBZ']"
   ]
  },
  {
   "cell_type": "code",
   "execution_count": null,
   "metadata": {},
   "outputs": [],
   "source": [
    "data.loc[:, 'non-stop words'] = data['words'] - data['stop words']"
   ]
  },
  {
   "cell_type": "code",
   "execution_count": null,
   "metadata": {},
   "outputs": [],
   "source": [
    "# data.loc[:, ['variant', 'non-stop words'] + morphosyntactic_features].to_excel('morphosyntax.xlsx')"
   ]
  },
  {
   "cell_type": "code",
   "execution_count": 31,
   "metadata": {},
   "outputs": [
    {
     "name": "stdout",
     "output_type": "stream",
     "text": [
      "I see a man flying a kite.\n",
      "I see a sailboat in the ocean.\n",
      "I see a child playing in the sand.\n",
      "I see a dog watching the boy flying a kite.\n",
      "I see some people having a picnic.\n",
      "I see a radio on the blanket, and a picnic basket there.\n",
      "I see a girl pouring a a glass of something to drink.\n",
      "The boy is reading a book. He wears glasses.\n",
      "I see a tree growing in front of the window.\n",
      "I see a car in the driveway.\n",
      "Apparently, it's a windy day.\n",
      "I can see the flag flying, and the kite is flying too.\n",
      "The sailboat is on the water.\n",
      "I see a shovel and a sand bucket in the sand.\n",
      "I think the boy is that was playing in the sand is now in the water.\n",
      "I see a dock there also.\n",
      "I see something hanging on the end of the dock.\n",
      "I don't know if it was a bucket or is something else.\n",
      "I see a radio on the blanket with the people that are having a picnic.\n",
      "The girl is wearing shorts and shirt.\n",
      "The man is wearing long pants and a shirt. The man on the blanket.\n",
      "The man who is flying a kite wearing long pants also.\n",
      "The child in the water is wearing a bathing suit.\n",
      "I see mountains on the horizon bushes also.\n",
      "I see a big tree in front yard in front of the cabin.\n",
      "I see a license plate on the car but it doesn't have any information on it.\n",
      "I see a picture window in the on to the house.\n"
     ]
    }
   ],
   "source": [
    "print(data.loc[(15069, 0), 'processed text'])"
   ]
  },
  {
   "cell_type": "code",
   "execution_count": null,
   "metadata": {},
   "outputs": [],
   "source": []
  }
 ],
 "metadata": {
  "kernelspec": {
   "display_name": "Python 3 (ipykernel)",
   "language": "python",
   "name": "python3"
  },
  "language_info": {
   "codemirror_mode": {
    "name": "ipython",
    "version": 3
   },
   "file_extension": ".py",
   "mimetype": "text/x-python",
   "name": "python",
   "nbconvert_exporter": "python",
   "pygments_lexer": "ipython3",
   "version": "3.11.7"
  }
 },
 "nbformat": 4,
 "nbformat_minor": 4
}
