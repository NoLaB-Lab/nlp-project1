{
 "cells": [
  {
   "cell_type": "markdown",
   "id": "2cc376a5",
   "metadata": {},
   "source": [
    "### Date updated\n",
    "2024-01-04\n",
    "\n",
    "### Authors\n",
    "Reshama S\n",
    "\n",
    "### Instructions for Whisper\n",
    "- https://github.com/openai/whisper\n",
    "- Setting up virtual environment: https://packaging.python.org/en/latest/guides/installing-using-pip-and-virtual-environments/\n"
   ]
  },
  {
   "cell_type": "code",
   "execution_count": 1,
   "id": "41e1c110",
   "metadata": {},
   "outputs": [],
   "source": [
    "import whisper"
   ]
  },
  {
   "cell_type": "code",
   "execution_count": 5,
   "id": "86ee25c4",
   "metadata": {},
   "outputs": [
    {
     "name": "stdout",
     "output_type": "stream",
     "text": [
      " I want you to tell me about any kind of trip that you've taken. I've traveled a lot. So tell me a little bit about a trip that you enjoyed. While we went to Italy, I enjoyed Italy, enjoyed the food. I enjoyed the wine and the women are fantastic. It's not the safest place in the world, but you kind of live with it. You live with it. You know, you're supposed to lock your house and close your windows and all that stuff. Okay. But everything was fine. Did you live there? No, I lived there. Wow. Stayed there for about three years. What about the old Naples? Naples. Lovely place. But like I said, it's not the safest place to live. But did you speak Italian? I spoke a little bit. Did you work there? Yes, I did. I worked at the adagem. Cool. And what's your wife do? Because you mentioned it was her job. She ran a tourist place. People want to take a trip. She had a lot of people who worked for her. She wanted to take a trip or whatever. She said it out. I'll need it. Yeah.\n"
     ]
    }
   ],
   "source": [
    "model = whisper.load_model(\"base\")\n",
    "#result = model.transcribe(\"audio.mp3\")\n",
    "\n",
    "result = model.transcribe(\"../data/audio/AJ_IMG_3334.MOV\", fp16=False)\n",
    "    \n",
    "print(result[\"text\"])"
   ]
  },
  {
   "cell_type": "code",
   "execution_count": null,
   "id": "666d48d3",
   "metadata": {},
   "outputs": [],
   "source": []
  }
 ],
 "metadata": {
  "kernelspec": {
   "display_name": "Python 3 (ipykernel)",
   "language": "python",
   "name": "python3"
  },
  "language_info": {
   "codemirror_mode": {
    "name": "ipython",
    "version": 3
   },
   "file_extension": ".py",
   "mimetype": "text/x-python",
   "name": "python",
   "nbconvert_exporter": "python",
   "pygments_lexer": "ipython3",
   "version": "3.9.13"
  }
 },
 "nbformat": 4,
 "nbformat_minor": 5
}
