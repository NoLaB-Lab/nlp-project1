{
 "cells": [
  {
   "cell_type": "markdown",
   "id": "2cc376a5",
   "metadata": {},
   "source": [
    "### Date updated\n",
    "2024-01-04\n",
    "\n",
    "### Authors\n",
    "Reshama S\n",
    "\n",
    "### Instructions for Whisper\n",
    "- https://github.com/openai/whisper\n",
    "- Setting up virtual environment: https://packaging.python.org/en/latest/guides/installing-using-pip-and-virtual-environments/\n"
   ]
  },
  {
   "cell_type": "code",
   "execution_count": 1,
   "id": "41e1c110",
   "metadata": {},
   "outputs": [],
   "source": [
    "import whisper"
   ]
  },
  {
   "cell_type": "code",
   "execution_count": null,
   "id": "86ee25c4",
   "metadata": {},
   "outputs": [],
   "source": [
    "# test code\n",
    "\n",
    "model = whisper.load_model(\"base\")\n",
    "#result = model.transcribe(\"audio.mp3\")\n",
    "\n",
    "result = model.transcribe(\"../data/recordings/AJ_IMG_3334.MOV\", fp16=False)\n",
    "    \n",
    "print(result[\"text\"])"
   ]
  },
  {
   "cell_type": "code",
   "execution_count": 3,
   "id": "4b110e24-83bc-4f4e-b48b-620302128752",
   "metadata": {},
   "outputs": [
    {
     "name": "stdout",
     "output_type": "stream",
     "text": [
      "AJ_IMG_3334.MOV\n",
      " I want you to tell me about any kind of trip that you've taken. I've traveled a lot. So tell me a little bit about a trip that you enjoyed. While we went to Italy, I enjoyed Italy, enjoyed the food. I enjoyed the wine and the women are fantastic. It's not the safest place in the world, but you kind of live with it. You live with it. You know, you're supposed to lock your house and close your windows and all that stuff. Okay. But everything was fine. Did you live there? No, I lived there. Wow. Stayed there for about three years. What about the old Naples? Naples. Lovely place. But like I said, it's not the safest place to live. But did you speak Italian? I spoke a little bit. Did you work there? Yes, I did. I worked at the adagem. Cool. And what's your wife do? Because you mentioned it was her job. She ran a tourist place. People want to take a trip. She had a lot of people who worked for her. She wanted to take a trip or whatever. She said it out. I'll need it. Yeah.\n",
      "BM_IMG_3480.MOV\n",
      " It is 1219 23 and I'm going to have you first tell me a little bit about a nice trip or vacation or something that you've taken in your past that you enjoyed. What? I don't quite know how to make it. Are you in a trip like to Texas like your wife was saying if you visit family? Yeah, we go to visit my wife's sister and her husband and her family with lots of their grandchildren there. It's good for her to get back home 2,000 miles away from where we are now and it's good to be in touch with their family and get to do things and to hear their accents and to eat lots of food and just have a good time. Nice, what part of Texas is it? West Texas. Yeah, hardly rains. Wow. One of the things about that place is when I take a walk, I don't hardly sweat and that's unusual for me because it's just so dry. It's so dry. You listen to the news and the humidity today, 20% or something like that. It's a real dry place and they grow. My wife's father had oil on it and they had beef but it was not enough water. It was just not enough water. Oh, yeah. So you go to the store and when you buy milk it's a lot of money because they have to ship it in but there's a lot of the beef is cheaper than around here. Okay.\n",
      "PG_IMG_3190.MOV\n",
      " to ask you about. I'm going to ask you to tell me a little bit about a childhood memory that wasn't great. Hopefully not too traumatic, but we all kind of remember something from childhood. I feel like a lot of us do that was like, oh, something. I think the one memory that I can tell you about is that I was in the garage and I was doing something with my father or whatever and the bench fell on my leg over on my leg and broke my leg. Oh no. I had a little hospital and I got set and stuff like that. That was a long time ago. I don't even, I can't tell you the year you were. That's one of the things I do remember most. Oh, poor kid. How old were you, do you know, or? I want to say 14-ish, 15-ish, something like that. Maybe 14-ish, 15-ish. Wow. That age. Poor guy. That hasn't bothered me all my life. Really, I haven't had an issue. Fine. Okay.\n",
      "BM_IMG_3481.MOV\n",
      " story about something. I know yes but more story this one is can be really interesting. I want you to tell me about a childhood or adolescent memory that wasn't really not too traumatic but something that was like a bad childhood memory. Yeah next door was this big tree and we kids thought it would be cool to climb up in the tree and we had a board and I don't know if we made like a little sign out under now but we climbed we skimmed up the tree and pounded that board into that tree and so around the corner was a funeral home and the man's the director of the home was called Van Ducin and so all his kids were you know we had this board in the tree and so so somebody said Van Ducin said to get that bar that board out of that tree you know so I climbed up Yanke the bar Yanke the thing down through it down and I jumped out of the thing I bit right right on the board with the nails up and I'm walking around screaming and I'm walking with the board in my walking with it stuck in my my my my my my my sneaker you know blood all over the place I'm screaming bloody bloody murder my my my mom comes running out and stuff like that and and I'm yelling that I hate you Van tooth and and and so you know obviously we went to the doctor and in this for like I don't know seem like months you know it was hard to even walk you know just trying to recuperate from that so that was for guy\n",
      "AJ_IMG_3335.MOV\n",
      " One more is I have people tell me a little bit of memory about something that was unpleasant in childhood or young in your younger years if you remember anything that was like, hopefully not too horrible but just something that wasn't like. No I don't think I never really had a, I mean we were poor, we lived in a different part of town and the richer kids there but it didn't bother me, it didn't, we just, because of something you grew up living in and doing and you just didn't bother me, just, you know, I enjoyed, I enjoyed being a kid, I enjoyed growing up the way I did and, you know, I really don't have any. You mentioned you were a football player so maybe people didn't mess with you. Well, I don't know, but anyway, no I just, we had a, like I said it was eight of us and I can remember let's see, my sister Gloria she got married, I don't think I know how this, don't. Okay, that's fine, okay.\n",
      "AP_IMG_3383.MOV\n",
      " It is 12, 6, 23 and I'm just going to ask you to tell me a little bit about a trip of some sort that you've taken in the past that was enjoyable. Yeah, I want to have a Grand Canyon Pennsylvania used just like the Grand Canyon but it's in a smaller scale and it's not natural made. It wasn't made by man and we didn't go all the way down because I was too scared. We could see it from the top and it's called the Grand Canyon Pennsylvania. I have never heard of that. I have to look it up. What part is it near? I don't remember but I remember driving to it from Waterloo, New York to the Grand Canyon Pennsylvania. Did you stay there for a few days or do some hiking? Just for hiking. Nice. How long does it take to hike it? I didn't. As I said, we didn't hike all the way down but a couple of hours, I would say. Oh, that is so neat. Did you do that recently or? Oh, that was maybe years ago. Yeah. Okay. All right. All right. You might remember right here. All right.\n",
      "RF_IMG_3241.MOV\n",
      " I'm also going to ask you to tell me a story about a bad, hopefully not too traumatic, but like a bad childhood memory if you have any or adolescent something that happened that wasn't great. Oh, I remember when I was very young. Well, not for it. Maybe about 10 years old, my father worked in a summer camp and a few of us kids were coursing around and we were climbing out of a window and I sort of fell and hit my wrist and broke my wrist, which made the rest of the summer. I was in the beginning of the summer not too much fun because I had to cast on my wrist for like three quarters of the summer. Oh my goodness. Did your dad, did you get in trouble for it or? Yeah, minor, minor trouble. Oh, I got you. Okay, that's fine. Bye bye.\n",
      "RF_IMG_3240.MOV\n",
      " It is 11-21-23 and I'm going to have you tell me a little bit about a trip or vacation, some type of excursion you've had that you enjoyed in the past. Oh, okay. Our last cruise was up to Canada and now we stopped at Palafax and Nova Scotia and came down to Portland and ate a lot of good lobster and had fun. Nice. What do you do? Do you go out and do excursions off the boat or? Yes. We took a... Oh, that one we took a horse-drawn carriage through a town whose name I can't remember and that was pretty cool. We went and saw an old village where the people in the village they all dressed up like they would have back when the village was found. Saw some pretty spectacular views in Canada and... That sounds good. Okay.\n",
      "SS_IMG_2863.MOV\n",
      " And one more thing I'll ask you to tell me about is a childhood memory that wasn't good like a sad or, you know, hopefully not too dramatic, but yeah like a bad memory from childhood. Yeah. I had a pretty fairly good, you know, no issues that I can really remember, but I do remember falling out of a tree. I think that it wasn't too high, you know, reaching for the next one and the next one and all of a sudden you're reaching and you don't get it and you're being. It wasn't horrible, but it's scary. Did you break anything here? No, I didn't. No, I've never had a broken bone. Oh, good. Thank you. Okay.\n",
      "SS_IMG_2862.MOV\n",
      " I'm going to have you tell me a little bit about a trip that you've taken that you enjoyed. Six years ago we went to Disney World. It was my fourth time being there and I went with my daughter and her husband and my grandson, Nicholas. And it was wonderful. We were there for a week, a whole week. It was just wonderful. I mean, things from Disney that I remember from years ago, new things. It was great. Got a lot of pictures and videos and... What do you think the highlight was? What was your favorite experience? The Hollywood Tower of Terror. I think they call it where you... Have you been on? The Hollywood Tower of Terror. They put you on a ride and you go and you're like in this big haunted mansion and you can't see a thing really until you know what's coming up because you could see this tower, this elevator tower, open really high and then you hear people screaming. Because then it drops you to the bottom. Oh my God, that's terrible. No, it was wonderful. It was wonderful. It really was. It was a very good experience. Okay. Thank you.\n",
      "AP_IMG_3384.MOV\n",
      " I have just one more thing to ask you about. I've seen people that tell me about a memory from their past, like a childhood memory when you were young. It was like a bad memory. Hopefully nothing too traumatic, but do you have a memory of something that happened? Yeah, those are the, when I was six years old, there was a single one there in the Lincoln Republic. I don't remember walking away with my father. My father was one of the targets that they have selected to eliminate, because he was part of the government, or through the communist government, that was elected. And so I remember the bullets flying over our heads. Oh my goodness. Well, that's a terrible memory. Oh my goodness. But I know from our history that he lived until well into his 90s. So you made it. That's scary. Did that last for a long time? He was from April to November, because the American troops intervened with them to get everything in order. Oh wow. In 1966 there was regular elections. But yeah, the American press was visible. Oh my goodness. What a memory.\n",
      "PG_IMG_3189.MOV\n",
      " All right, I'm going to have you tell me about a nice vacation or a fun vacation you took at some point. It can be anytime in your life. Our trip. One of our favorite things to do is go down the Merle Beach in April. April May, every year, we visit friends and that sort of thing. They come down with us sometimes. I brought my kids down there to the family, the whole family down there. So fun, yeah. Do you stand the water? Yeah. We have a timeshare. Oh, cool. Okay, so we use the timeshare. We stand the beach most of the time. Travel around to eat and the place has places where we can have use of our food grill and stuff like that. They have it out there. Either propane or contractable. They have both pools and hot tub and everything. I don't do the hot tub. I do pool and I go out. The ocean is kind of cool. Other than that, kids have a bar, there's a sandy beach and stuff like that. That's a good time. Yeah, that's fun. We usually stay a week. Do you get some golfing? Not usually, no, if kids come. We go, because we got one vehicle. Oh, I see. I've been using the company man. Then my car while I'm working. But I'm done at the end of the year. I really don't know yet. See what the owner has to say. So if he wants me to still come around or not. Does he'll pay me something else? But I'm still a director. Right.\n",
      "MW_IMG_3200.MOV\n",
      " All right. How are you going today? It's November 15th. And I'm going to have you tell me a story about a trip that you've taken. It can be anytime. Actually, maybe just a trip you just took a little bit. Tell me about it. OK. Well, I got on the plane in Syracuse. I went to Baltimore Airport. And then we went to Elbuquerque, where I got off the plane. And Gail Dolby, my Iran, picked me up. And we went to her son's place. And that's where I stayed. Friday, we sat, or Friday. We did a few things. And then Saturday, we went to the balloon festival. And on a bus trip, which was the easiest and really the cheapest way of getting here, because the $25 that took the bus from the shopping mall. And the price of getting in and the bus ride was $25. Oh, nice. So it was really reasonable. And the bus dropped us right off at the place we entered the balloon festival, which was better than walking a half mile from the parking line. It's also included in the handicap, which was a half mile away. So we did that for several hours. Came back and rested. We went up to Santa Fe. It was Monday. Monday, we went to Santa Fe. And we went to a check out the oldest house in the United States and the oldest church in the United States. Oh, my goodness. We were going to eat up there. But they also were having a festival at that day, which the center where we wanted to eat was all filled out. And there was no place to park. It's OK. All right.\n",
      "MW_IMG_3201.MOV\n",
      " A more story I'll ask you to tell me is I'm asking people to tell me about something like a bad memory from your youth or from when you were younger. Hopefully nothing too traumatic, but just something that you know, when you were a little or a teenager. Hmm. I don't really remember. Oh, there was a, I was climbing up a tree in a neighbor's yard and she caught me. And not only did she chew me out, but she hit me several times. Oh, no. And I went home and talked to my father about it and he said, well, you shouldn't have been up in the tree. And that's about all I can remember. Oh, okay. That's fair.\n"
     ]
    }
   ],
   "source": [
    "import os\n",
    "data_dir = \"../data/recordings/\"\n",
    "transc_dir = \"../data/transcripts/\"\n",
    "\n",
    "def audio_scribe(logp, file_name ):\n",
    "    model = whisper.load_model(\"base\")\n",
    "\n",
    "    filepath = os.path.join(data_dir, file_name)     \n",
    "    result = model.transcribe(filepath, fp16=False)\n",
    "\n",
    "    root, ext = os.path.splitext(file_name)\n",
    "    with open(transc_dir+root+ '.txt', 'w') as f:\n",
    "        f.write(result['text'])\n",
    "           \n",
    "    if logp==1:\n",
    "        print(file_name)\n",
    "        #print(type(result))\n",
    "        #for key, value in result.items():\n",
    "        #    print(key, value)\n",
    "    \n",
    "        print(result[\"text\"])\n",
    "\n",
    "#audio_scribe(logp=1, file_name='AJ_IMG_3334.MOV')\n",
    "\n",
    "for filename in os.listdir(data_dir):\n",
    "    audio_scribe(logp=1, file_name=filename)\n",
    "        "
   ]
  },
  {
   "cell_type": "code",
   "execution_count": null,
   "id": "666d48d3",
   "metadata": {},
   "outputs": [],
   "source": [
    "import whisper\n",
    "\n",
    "model = whisper.load_model(\"base\")\n",
    "\n",
    "# load audio and pad/trim it to fit 30 seconds\n",
    "audio = whisper.load_audio(\"../data/audio/AJ_IMG_3334.MOV\")\n",
    "audio = whisper.pad_or_trim(audio)\n",
    "\n",
    "# make log-Mel spectrogram and move to the same device as the model\n",
    "mel = whisper.log_mel_spectrogram(audio).to(model.device)\n",
    "\n",
    "# detect the spoken language\n",
    "_, probs = model.detect_language(mel)\n",
    "print(f\"Detected language: {max(probs, key=probs.get)}\")\n",
    "\n"
   ]
  },
  {
   "cell_type": "code",
   "execution_count": null,
   "id": "3bdd571d",
   "metadata": {},
   "outputs": [],
   "source": [
    "# decode the audio\n",
    "options = whisper.DecodingOptions()\n",
    "result = whisper.decode(model, mel, options)\n"
   ]
  },
  {
   "cell_type": "code",
   "execution_count": null,
   "id": "75699058",
   "metadata": {},
   "outputs": [],
   "source": []
  }
 ],
 "metadata": {
  "kernelspec": {
   "display_name": "Python 3 (ipykernel)",
   "language": "python",
   "name": "python3"
  },
  "language_info": {
   "codemirror_mode": {
    "name": "ipython",
    "version": 3
   },
   "file_extension": ".py",
   "mimetype": "text/x-python",
   "name": "python",
   "nbconvert_exporter": "python",
   "pygments_lexer": "ipython3",
   "version": "3.11.7"
  }
 },
 "nbformat": 4,
 "nbformat_minor": 5
}
